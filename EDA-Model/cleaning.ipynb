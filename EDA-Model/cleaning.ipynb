{
 "cells": [
  {
   "cell_type": "markdown",
   "id": "9e22a823",
   "metadata": {},
   "source": [
    "### UBAH EXCEL KE CSV"
   ]
  },
  {
   "cell_type": "code",
   "execution_count": 4,
   "id": "80a3d14e",
   "metadata": {},
   "outputs": [
    {
     "name": "stdout",
     "output_type": "stream",
     "text": [
      "Membaca file 'E:\\$7th\\PTSPIL\\Ship-Operation-Systems\\EDA-Model\\Ship_Operation_Data.xlsx' dengan header multi-baris...\n",
      "Membersihkan dan menggabungkan nama kolom...\n",
      "Mengonversi ke 'E:\\$7th\\PTSPIL\\Ship-Operation-Systems\\EDA-Model\\Ship_Operation_Data2.csv'...\n",
      "\n",
      "Konversi berhasil! 🎉\n",
      "File 'E:\\$7th\\PTSPIL\\Ship-Operation-Systems\\EDA-Model\\Ship_Operation_Data2.csv' telah dibuat dengan format yang benar.\n"
     ]
    }
   ],
   "source": [
    "import pandas as pd\n",
    "\n",
    "# --- PENGATURAN ---\n",
    "# Ganti dengan nama file Excel Anda\n",
    "nama_file_xlsx = r'E:\\$7th\\PTSPIL\\Ship-Operation-Systems\\EDA-Model\\Ship_Operation_Data.xlsx'\n",
    "\n",
    "# Ganti dengan nama file CSV yang Anda inginkan sebagai output\n",
    "nama_file_csv = r'E:\\$7th\\PTSPIL\\Ship-Operation-Systems\\EDA-Model\\Ship_Operation_Data2.csv'\n",
    "# --------------------\n",
    "\n",
    "try:\n",
    "    # Langkah 1: Baca file Excel, definisikan bahwa 4 baris pertama adalah header\n",
    "    # header=[0, 1, 2, 3] memberitahu pandas untuk membaca 4 baris teratas sebagai header.\n",
    "    print(f\"Membaca file '{nama_file_xlsx}' dengan header multi-baris...\")\n",
    "    df = pd.read_excel(nama_file_xlsx, header=[0, 1, 2, 3])\n",
    "\n",
    "    # Langkah 2: Membersihkan dan menggabungkan nama kolom dari multi-baris\n",
    "    # Loop ini akan mengambil setiap level header dan menggabungkannya dengan '_'\n",
    "    print(\"Membersihkan dan menggabungkan nama kolom...\")\n",
    "    new_columns = []\n",
    "    for col in df.columns:\n",
    "        # Mengambil setiap bagian dari nama kolom, kecuali yang berisi 'Unnamed'\n",
    "        parts = [str(part) for part in col if 'Unnamed' not in str(part)]\n",
    "        # Menggabungkannya dengan underscore '_'\n",
    "        new_columns.append('_'.join(parts).strip())\n",
    "    \n",
    "    # Menetapkan nama kolom yang sudah bersih ke DataFrame\n",
    "    df.columns = new_columns\n",
    "\n",
    "    # Langkah 3: Simpan data ke dalam file .csv\n",
    "    print(f\"Mengonversi ke '{nama_file_csv}'...\")\n",
    "    df.to_csv(nama_file_csv, index=False)\n",
    "    \n",
    "    print(\"\\nKonversi berhasil! 🎉\")\n",
    "    print(f\"File '{nama_file_csv}' telah dibuat dengan format yang benar.\")\n",
    "\n",
    "except FileNotFoundError:\n",
    "    print(f\"\\nERROR: File '{nama_file_xlsx}' tidak ditemukan.\")\n",
    "    print(\"Pastikan nama file sudah benar dan file tersebut berada di folder yang sama dengan skrip ini.\")\n",
    "except Exception as e:\n",
    "    print(f\"\\nTerjadi sebuah error: {e}\")"
   ]
  },
  {
   "cell_type": "markdown",
   "id": "ce3f61c4",
   "metadata": {},
   "source": [
    "### CLEANING KOLOM BERTH LOCATION"
   ]
  },
  {
   "cell_type": "code",
   "execution_count": 6,
   "id": "6364eeca",
   "metadata": {},
   "outputs": [
    {
     "name": "stdout",
     "output_type": "stream",
     "text": [
      "Daftar kolom dalam dataset:\n",
      "['VESSEL ID (DMY)', 'Voyage No.', 'Voyage Yr', 'BERTH LOCATION', 'Date Berth', 'TOTAL BONGKARAN_EMPTY_20 DC', 'TOTAL BONGKARAN_EMPTY_40 HC', 'TOTAL BONGKARAN_FULL_20 DC', 'TOTAL BONGKARAN_FULL_40 HC', 'PENGAJUAN KE PLANNER_EMPTY_20 DC', 'PENGAJUAN KE PLANNER_EMPTY_40 HC', 'PENGAJUAN KE PLANNER_FULL_20 DC', 'PENGAJUAN KE PLANNER_FULL_40 HC', 'ACC PENGAJUAN_EMPTY_20 DC', 'ACC PENGAJUAN_EMPTY_40 HC', 'ACC PENGAJUAN_FULL_20 DC', 'ACC PENGAJUAN_FULL_40 HC', '0_TOTAL_BOX_20 DC', '0_40 HC', '0_TEUS', 'REALISASI ALL DEPO_ALL DEPO_MXD_20 DC', 'REALISASI ALL DEPO_ALL DEPO_MXD_40 HC', 'REALISASI ALL DEPO_ALL DEPO_FXD_20 DC', 'REALISASI ALL DEPO_ALL DEPO_FXD_40 HC', 'SHIPSIDE_YES_MXD_20 DC', 'SHIPSIDE_YES_MXD_40 HC', 'SHIPSIDE_YES_FXD_20 DC', 'SHIPSIDE_YES_FXD_40 HC', 'SHIPSIDE_NO_MXD_20 DC', 'SHIPSIDE_NO_MXD_40 HC', 'SHIPSIDE_NO_FXD_20 DC', 'SHIPSIDE_NO_FXD_40 HC', '0_TOTAL_BOX_20 DC.1', '0_40 HC.1', '0_TEUS.1', 'TURUN CY_BOX_20 DC', 'TURUN CY_BOX_40 HC', 'TURUN CY_TEUS', 'PERSENTASE/VESSEL\\n(Total Realisasi TL, SS dibagi Total Pengajuan)', 'OBSTACLES']\n",
      "\n",
      "--- Ringkasan BERTH LOCATION setelah cleaning ---\n",
      "Jumlah unique value : 7\n",
      "Daftar unique value : ['ADP' 'DSN' 'PERCA' 'CELEBES' 'MSA' 'PTP' 'MTI']\n",
      "BERTH LOCATION\n",
      "ADP        721\n",
      "DSN        372\n",
      "PERCA      205\n",
      "CELEBES     30\n",
      "MSA         16\n",
      "PTP          1\n",
      "MTI          1\n",
      "Name: count, dtype: int64\n",
      "\n",
      "✅ File cleaned berhasil disimpan ke: E:\\$7th\\PTSPIL\\Ship-Operation-Systems\\EDA-Model\\Ship_Operation_Data_Cleaned2.csv\n"
     ]
    }
   ],
   "source": [
    "import pandas as pd\n",
    "import re\n",
    "\n",
    "# --- SETUP PATH ---\n",
    "csv_path = r'E:\\$7th\\PTSPIL\\Ship-Operation-Systems\\EDA-Model\\Ship_Operation_Data.csv'\n",
    "csv_out = r'E:\\$7th\\PTSPIL\\Ship-Operation-Systems\\EDA-Model\\Ship_Operation_Data_Cleaned2.csv'\n",
    "\n",
    "# --- 1. Baca CSV ---\n",
    "df = pd.read_csv(csv_path)\n",
    "\n",
    "# --- 2. Print semua kolom ---\n",
    "print(\"Daftar kolom dalam dataset:\")\n",
    "print(list(df.columns))\n",
    "\n",
    "# --- 3. Cleaning kolom BERTH LOCATION ---\n",
    "def clean_port(value):\n",
    "    if pd.isna(value):\n",
    "        return None\n",
    "    # Uppercase\n",
    "    val = str(value).upper().strip()\n",
    "    # Hilangkan angka di akhir / tengah (misal CELEBES107 -> CELEBES, MSA 210 -> MSA)\n",
    "    val = re.sub(r'\\d+', '', val).strip()\n",
    "    return val\n",
    "\n",
    "df['BERTH LOCATION'] = df['BERTH LOCATION'].apply(clean_port)\n",
    "\n",
    "# --- 4. Ringkasan unique value setelah cleaning ---\n",
    "unique_clean = df['BERTH LOCATION'].dropna().unique()\n",
    "unique_count_clean = df['BERTH LOCATION'].nunique()\n",
    "\n",
    "print(\"\\n--- Ringkasan BERTH LOCATION setelah cleaning ---\")\n",
    "print(f\"Jumlah unique value : {unique_count_clean}\")\n",
    "print(\"Daftar unique value :\", unique_clean)\n",
    "print(df['BERTH LOCATION'].value_counts())\n",
    "\n",
    "# --- 5. Simpan hasil update ke CSV baru ---\n",
    "df.to_csv(csv_out, index=False)\n",
    "print(f\"\\n✅ File cleaned berhasil disimpan ke: {csv_out}\")"
   ]
  },
  {
   "cell_type": "markdown",
   "id": "5763e0c5",
   "metadata": {},
   "source": [
    "### FORMATTING DATE BERTH"
   ]
  },
  {
   "cell_type": "code",
   "execution_count": null,
   "id": "a8fe3b2f",
   "metadata": {},
   "outputs": [
    {
     "name": "stdout",
     "output_type": "stream",
     "text": [
      "✅ File CSV berhasil dibaca.\n",
      "Contoh format 'Date Berth' sebelum diubah:\n",
      "0    2024-01-03 08:00:00\n",
      "1    2024-01-04 06:00:00\n",
      "2    2024-01-04 12:00:00\n",
      "3    2024-01-03 00:00:00\n",
      "4    2024-01-04 05:00:00\n",
      "Name: Date Berth, dtype: object\n",
      "--------------------------------------------------\n"
     ]
    },
    {
     "name": "stderr",
     "output_type": "stream",
     "text": [
      "C:\\Users\\LEGION\\AppData\\Local\\Temp\\ipykernel_25732\\2654990375.py:19: UserWarning: The argument 'infer_datetime_format' is deprecated and will be removed in a future version. A strict version of it is now the default, see https://pandas.pydata.org/pdeps/0004-consistent-to-datetime-parsing.html. You can safely remove this argument.\n",
      "  return pd.to_datetime(date_str, dayfirst=True, infer_datetime_format=True)\n",
      "C:\\Users\\LEGION\\AppData\\Local\\Temp\\ipykernel_25732\\2654990375.py:19: UserWarning: Parsing dates in %Y-%m-%d %H:%M:%S format when dayfirst=True was specified. Pass `dayfirst=False` or specify a format to silence this warning.\n",
      "  return pd.to_datetime(date_str, dayfirst=True, infer_datetime_format=True)\n"
     ]
    },
    {
     "name": "stdout",
     "output_type": "stream",
     "text": [
      "✅ Sebanyak 2 baris dengan data tanggal kosong/salah telah dihapus.\n",
      "--------------------------------------------------\n",
      "✅ Kolom 'Date Berth' telah berhasil diseragamkan.\n",
      "Contoh format 'Date Berth' setelah diubah:\n",
      "0    2024-03-01 08:00:00\n",
      "1    2024-04-01 06:00:00\n",
      "2    2024-04-01 12:00:00\n",
      "3    2024-03-01 00:00:00\n",
      "4    2024-04-01 05:00:00\n",
      "Name: Date Berth, dtype: object\n",
      "--------------------------------------------------\n",
      "✅ File baru yang sudah bersih telah disimpan di:\n",
      "E:\\$7th\\PTSPIL\\Ship-Operation-Systems\\project\\data\\Ship_Operation_Cleaned.csv\n"
     ]
    }
   ],
   "source": [
    "import pandas as pd\n",
    "\n",
    "def parse_flexible_date(date_str):\n",
    "    \"\"\"\n",
    "    Fungsi untuk mengubah string tanggal menjadi objek datetime.\n",
    "    Secara eksplisit menangani format non-standar seperti 'dd/mm/yyyy HH.MM'\n",
    "    sebelum beralih ke deteksi otomatis.\n",
    "    \"\"\"\n",
    "    if pd.isna(date_str):\n",
    "        return pd.NaT # Kembalikan 'Not a Time' jika datanya kosong\n",
    "    \n",
    "    # Coba format non-standar terlebih dahulu (misal: 08/05/2024 18.00)\n",
    "    try:\n",
    "        return pd.to_datetime(date_str, format='%d/%m/%Y %H.%M')\n",
    "    except (ValueError, TypeError):\n",
    "        # Jika format di atas gagal, coba deteksi otomatis untuk format lain\n",
    "        try:\n",
    "            # dayfirst=True membantu pandas menginterpretasikan dd/mm/yyyy dengan benar\n",
    "            return pd.to_datetime(date_str, dayfirst=True, infer_datetime_format=True)\n",
    "        except (ValueError, TypeError):\n",
    "            # Jika semua format gagal, kembalikan NaT\n",
    "            return pd.NaT\n",
    "\n",
    "# 1. Tentukan path file Anda\n",
    "# Pastikan untuk mengganti path ini jika lokasi file Anda berbeda.\n",
    "input_csv_path = r'E:\\$7th\\PTSPIL\\Ship-Operation-Systems\\EDA-Model\\Ship_Operation_Data_Cleaned.csv'\n",
    "output_csv_path = r'E:\\$7th\\PTSPIL\\Ship-Operation-Systems\\project\\data\\Ship_Operation_Data_Cleaned.csv'\n",
    "\n",
    "try:\n",
    "    # 2. Baca file CSV ke dalam DataFrame pandas\n",
    "    df = pd.read_csv(input_csv_path)\n",
    "\n",
    "    print(\"✅ File CSV berhasil dibaca.\")\n",
    "    print(\"Contoh format 'Date Berth' sebelum diubah:\")\n",
    "    print(df['Date Berth'].head())\n",
    "    print(\"-\" * 50)\n",
    "\n",
    "    # 3. Terapkan fungsi fleksibel untuk konversi tanggal\n",
    "    # Ini akan menangani berbagai format yang ada di kolom Anda.\n",
    "    original_dtype = df['Date Berth'].dtype\n",
    "    if pd.api.types.is_string_dtype(original_dtype):\n",
    "        df['Date Berth'] = df['Date Berth'].apply(parse_flexible_date)\n",
    "    else:\n",
    "        # Jika sudah bukan string, coba konversi langsung\n",
    "        df['Date Berth'] = pd.to_datetime(df['Date Berth'], errors='coerce')\n",
    "    \n",
    "    # 4. Hapus baris di mana 'Date Berth' kosong (null) setelah konversi\n",
    "    initial_rows = len(df)\n",
    "    df.dropna(subset=['Date Berth'], inplace=True)\n",
    "    dropped_rows = initial_rows - len(df)\n",
    "    if dropped_rows > 0:\n",
    "        print(f\"✅ Sebanyak {dropped_rows} baris dengan data tanggal kosong/salah telah dihapus.\")\n",
    "    else:\n",
    "        print(\"✅ Tidak ada baris dengan data tanggal kosong yang ditemukan.\")\n",
    "    print(\"-\" * 50)\n",
    "\n",
    "\n",
    "    # 5. Ubah kembali ke format string yang seragam (YYYY-MM-DD HH:MM:SS)\n",
    "    # Ini adalah format standar yang mudah dibaca oleh Python dan database.\n",
    "    df['Date Berth'] = df['Date Berth'].dt.strftime('%Y-%m-%d %H:%M:%S')\n",
    "\n",
    "    print(\"✅ Kolom 'Date Berth' telah berhasil diseragamkan.\")\n",
    "    print(\"Contoh format 'Date Berth' setelah diubah:\")\n",
    "    print(df['Date Berth'].head())\n",
    "    print(\"-\" * 50)\n",
    "\n",
    "    # 6. Simpan DataFrame yang sudah bersih ke file CSV baru\n",
    "    df.to_csv(output_csv_path, index=False)\n",
    "\n",
    "    print(f\"✅ File baru yang sudah bersih telah disimpan di:\\n{output_csv_path}\")\n",
    "\n",
    "except FileNotFoundError:\n",
    "    print(f\"❌ ERROR: File tidak ditemukan di path: {input_csv_path}\")\n",
    "    print(\"   Mohon periksa kembali path file Anda.\")\n",
    "except Exception as e:\n",
    "    print(f\"❌ Terjadi error: {e}\")\n",
    "\n"
   ]
  }
 ],
 "metadata": {
  "kernelspec": {
   "display_name": "Python 3",
   "language": "python",
   "name": "python3"
  },
  "language_info": {
   "codemirror_mode": {
    "name": "ipython",
    "version": 3
   },
   "file_extension": ".py",
   "mimetype": "text/x-python",
   "name": "python",
   "nbconvert_exporter": "python",
   "pygments_lexer": "ipython3",
   "version": "3.13.1"
  }
 },
 "nbformat": 4,
 "nbformat_minor": 5
}
